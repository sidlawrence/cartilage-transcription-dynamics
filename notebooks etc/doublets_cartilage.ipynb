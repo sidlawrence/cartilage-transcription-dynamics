{
 "cells": [
  {
   "cell_type": "code",
   "execution_count": 1,
   "id": "crucial-addition",
   "metadata": {},
   "outputs": [],
   "source": [
    "import numpy as np\n",
    "import pandas as pd\n",
    "import scanpy as sc\n",
    "import scrublet as scr"
   ]
  },
  {
   "cell_type": "code",
   "execution_count": 28,
   "id": "comprehensive-lover",
   "metadata": {},
   "outputs": [],
   "source": [
    "#read in the SoupX matrices for each sample; make var names unique\n",
    "sample1 = sc.read_mtx('SoupX_matrices/Sample1.mtx')\n",
    "sample2= sc.read_mtx('SoupX_matrices/SAmple2.mtx')\n",
    "#etc\n",
    "\n",
    "Sample1.var_names_make_unique()\n",
    "Sample2.var_names_make_unique()"
   ]
  },
  {
   "cell_type": "code",
   "execution_count": null,
   "id": "departmental-rings",
   "metadata": {},
   "outputs": [],
   "source": [
    "#check n_obs to estimate expected doublet rate; https://uofuhealth.utah.edu/huntsman/shared-resources/gba/htg/single-cell/genomics-10x.php\n",
    "Sample1"
   ]
  },
  {
   "cell_type": "code",
   "execution_count": 41,
   "id": "occupied-twins",
   "metadata": {},
   "outputs": [],
   "source": [
    "#estimate\n",
    "Sample1 = scr.Scrublet(Sample1.X, expected_doublet_rate = 0.039)"
   ]
  },
  {
   "cell_type": "code",
   "execution_count": null,
   "id": "experimental-magazine",
   "metadata": {},
   "outputs": [],
   "source": [
    "#now clean each and add metadata\n",
    "Sample1.obs['doublet_scores'], Sample1.obs['predicted_doublets'] = scrub_Sample1.scrub_doublets(min_counts=2, min_cells=3, min_gene_variability_pctl=85, n_prin_comps=30)"
   ]
  },
  {
   "cell_type": "code",
   "execution_count": null,
   "id": "beautiful-convention",
   "metadata": {},
   "outputs": [],
   "source": [
    "#inspect\n",
    "Sample1.obs"
   ]
  },
  {
   "cell_type": "code",
   "execution_count": null,
   "id": "behind-signal",
   "metadata": {},
   "outputs": [],
   "source": [
    "Sample1.plot_histogram();"
   ]
  },
  {
   "cell_type": "code",
   "execution_count": 18,
   "id": "center-driving",
   "metadata": {},
   "outputs": [],
   "source": [
    "#write the csv(s) for use in Seurat"
   ]
  },
  {
   "cell_type": "code",
   "execution_count": 45,
   "id": "significant-granny",
   "metadata": {},
   "outputs": [],
   "source": [
    "pd.DataFrame(Sample1.obs).to_csv(\"MT118.tsv\",sep = '\\t',header = False)"
   ]
  }
 ],
 "metadata": {
  "kernelspec": {
   "display_name": "Python 3",
   "language": "python",
   "name": "python3"
  },
  "language_info": {
   "codemirror_mode": {
    "name": "ipython",
    "version": 3
   },
   "file_extension": ".py",
   "mimetype": "text/x-python",
   "name": "python",
   "nbconvert_exporter": "python",
   "pygments_lexer": "ipython3",
   "version": "3.8.8"
  }
 },
 "nbformat": 4,
 "nbformat_minor": 5
}
