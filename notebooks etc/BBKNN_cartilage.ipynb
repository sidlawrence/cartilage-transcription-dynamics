{
 "cells": [
  {
   "cell_type": "code",
   "execution_count": null,
   "id": "unsigned-boundary",
   "metadata": {},
   "outputs": [],
   "source": [
    "#bbknn run - Peng He\n",
    "import numpy as np\n",
    "import Scanpyplus\n",
    "import pandas as pd\n",
    "import scanpy as sc\n",
    "import anndata\n",
    "import bbknn"
   ]
  },
  {
   "cell_type": "code",
   "execution_count": null,
   "id": "typical-aurora",
   "metadata": {},
   "outputs": [],
   "source": [
    "#define sample names from limb and bone marrow\n",
    "library=['5386STDY7537944','5478STDY7819848','5478STDY7850147','WSSS_THYst8796439',\n",
    "'5386STDY7557335','5478STDY7819849','5478STDY7850148','WSSS_THYst8796440',\n",
    "'5386STDY7557336','5478STDY7840021','5478STDY7850149','WSSS_THYst8796441',\n",
    "'5386STDY7557337','5478STDY7840022','5478STDY7935101','WSSS_THYst8796442',\n",
    "'5478STDY7652318','5478STDY7840023','5478STDY7935102','WSSS_THYst9384953',\n",
    "'5478STDY7717491','5478STDY7840024','5478STDY7980348','WSSS_THYst9384954',\n",
    "'5478STDY7717492','5478STDY7850142','5478STDY7980349','WSSS_THYst9384955',\n",
    "'5478STDY7819844','5478STDY7850143','FCAImmP7536758','WSSS_THYst9384956',\n",
    "'5478STDY7819845','5478STDY7850144','FCAImmP7536759','WSSS_THYst9384957',\n",
    "'5478STDY7819846','5478STDY7850145','WSSS_THYst8796437','WSSS_THYst9384958',\n",
    "'5478STDY7819847','5478STDY7850146','WSSS_THYst8796438']\n",
    "library2=['FCAImmP7179368','FCAImmP7277567','FCAImmP7555854','FCAImmP7803019','FCAImmP7803033',\n",
    "'FCAImmP7277559','FCAImmP7292031','FCAImmP7555855','FCAImmP7803031',\n",
    "'FCAImmP7277566','FCAImmP7292035','FCAImmP7803018','FCAImmP7803032']"
   ]
  },
  {
   "cell_type": "code",
   "execution_count": null,
   "id": "rubber-bride",
   "metadata": {},
   "outputs": [],
   "source": [
    "#read in the SoupX adjusted matrices\n",
    "ad=[]\n",
    "for i in library:\n",
    "    temp=sc.read_10x_mtx('results/'+i+'/output/Gene/SoupX/')\n",
    "    ad.append(temp)\n",
    "for i in library2:\n",
    "    temp=sc.read_10x_mtx('results2/'+i+'/output/Gene/SoupX/')\n",
    "    ad.append(temp)"
   ]
  },
  {
   "cell_type": "code",
   "execution_count": null,
   "id": "serial-interstate",
   "metadata": {},
   "outputs": [],
   "source": [
    "#concatenate\n",
    "adata = ad[0].concatenate(ad[1:], batch_categories=library+library2)"
   ]
  },
  {
   "cell_type": "code",
   "execution_count": 43,
   "id": "wireless-particle",
   "metadata": {},
   "outputs": [],
   "source": [
    "#add meta data and mito genes\n",
    "Meta=pd.read_csv('Meta.csv',index_col=0)\n",
    "adata=Scanpyplus.AddMetaBatch(adata,Meta)\n",
    "mito_genes=adata.var_names[adata.var_names.str.startswith('MT-')]\n",
    "adata.obs['percent_mito']=np.sum(adata[:,\n",
    "                        mito_genes].X,axis=1).A1 / np.sum(adata.X, axis=1).A1\n",
    "adata= adata[adata.obs['percent_mito'] < 0.1, :]"
   ]
  },
  {
   "cell_type": "code",
   "execution_count": null,
   "id": "ambient-geneva",
   "metadata": {},
   "outputs": [],
   "source": [
    "#normalise, scale, filter and run bbknn\n",
    "sc.pp.normalize_per_cell(adata,counts_per_cell_after= 1e4, key_n_counts= 'n_counts')\n",
    "sc.pp.log1p(adata)\n",
    "sc.pp.scale(adata)\n",
    "sc.tl.pca(adata)\n",
    "sc.pp.filter_cells(adata,min_genes=500)\n",
    "bbknn.bbknn(adata,batch_key='batch',\n",
    "            neighbors_within_batch = 3, trim = 200,\n",
    "            approx=False,metric='euclidean',n_pcs=100)"
   ]
  },
  {
   "cell_type": "code",
   "execution_count": 195,
   "id": "threaded-wagon",
   "metadata": {},
   "outputs": [],
   "source": [
    "#save h5ad for conversion in seurat\n",
    "adata.write_h5ad('Cartilage.h5ad')"
   ]
  }
 ],
 "metadata": {
  "kernelspec": {
   "display_name": "flng",
   "language": "python",
   "name": "flng"
  },
  "language_info": {
   "codemirror_mode": {
    "name": "ipython",
    "version": 3
   },
   "file_extension": ".py",
   "mimetype": "text/x-python",
   "name": "python",
   "nbconvert_exporter": "python",
   "pygments_lexer": "ipython3",
   "version": "3.8.11"
  }
 },
 "nbformat": 4,
 "nbformat_minor": 5
}
