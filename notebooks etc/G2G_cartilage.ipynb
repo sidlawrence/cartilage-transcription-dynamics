{
 "cells": [
  {
   "cell_type": "code",
   "execution_count": 1,
   "id": "liberal-limit",
   "metadata": {
    "tags": []
   },
   "outputs": [],
   "source": [
    "import anndata\n",
    "import numpy as np\n",
    "import pandas as pd \n",
    "import seaborn as sb\n",
    "import matplotlib.pyplot as plt\n",
    "import regex as re\n",
    "import scanpy as sc\n",
    "\n",
    "import os,sys,inspect\n",
    "\n",
    "import warnings\n",
    "warnings.filterwarnings(\"ignore\")"
   ]
  },
  {
   "cell_type": "markdown",
   "id": "liquid-austin",
   "metadata": {
    "tags": []
   },
   "source": [
    "adata_ref = anndata.read_h5ad('..path/to/invivo/with/pseudotime/estimate.h5ad')\n",
    "adata_query = anndata.read_h5ad('..path/to/invitro/with/pseudotime/estimate.h5ad')"
   ]
  },
  {
   "cell_type": "markdown",
   "id": "magnetic-portland",
   "metadata": {},
   "source": [
    "# Genes2Genes runs"
   ]
  },
  {
   "cell_type": "code",
   "execution_count": 2,
   "id": "adapted-march",
   "metadata": {},
   "outputs": [],
   "source": [
    "# NB to load aligner objects for plotting, saved from below runs at any time:\n",
    "import pickle\n",
    "\n",
    "#TF object\n",
    "with open('aligner_TF.pkl', 'rb') as f:\n",
    "    aligner = pickle.load(f)\n",
    "    \n",
    "#hvg object\n",
    "with open('aligner_hvgs.pkl', 'rb') as f:\n",
    "    aligner_hvgs = pickle.load(f)"
   ]
  },
  {
   "cell_type": "code",
   "execution_count": null,
   "id": "expired-trainer",
   "metadata": {},
   "outputs": [],
   "source": [
    "#install G2G\n",
    "pip install git+https://github.com/Teichlab/Genes2Genes.git"
   ]
  },
  {
   "cell_type": "code",
   "execution_count": 3,
   "id": "flush-comedy",
   "metadata": {
    "tags": []
   },
   "outputs": [],
   "source": [
    "#import modules\n",
    "from genes2genes import Main\n",
    "from genes2genes import ClusterUtils\n",
    "from genes2genes import TimeSeriesPreprocessor\n",
    "from genes2genes import PathwayAnalyser\n",
    "from genes2genes import VisualUtils"
   ]
  },
  {
   "cell_type": "code",
   "execution_count": 12,
   "id": "proved-compiler",
   "metadata": {
    "tags": []
   },
   "outputs": [],
   "source": [
    "#preprocess\n",
    "sc.pp.normalize_per_cell(adata_ref, 10000) \n",
    "sc.pp.log1p(adata_ref)\n",
    "sc.pp.normalize_per_cell(adata_query, 10000) \n",
    "sc.pp.log1p(adata_query)"
   ]
  },
  {
   "cell_type": "code",
   "execution_count": null,
   "id": "aware-athletics",
   "metadata": {
    "tags": []
   },
   "outputs": [],
   "source": [
    "#identify HVGs\n",
    "sc.pp.highly_variable_genes(adata_ref, subset=False)\n",
    "sc.pp.highly_variable_genes(adata_query, subset=False)\n",
    "ref_genes = adata_ref.var_names[adata_ref.var['highly_variable']]\n",
    "query_genes = adata_query.var_names[adata_query.var['highly_variable']]\n",
    "hvg_genes = np.intersect1d(ref_genes, query_genes)\n",
    "len(hvg_genes)"
   ]
  },
  {
   "cell_type": "code",
   "execution_count": null,
   "id": "vital-birth",
   "metadata": {
    "tags": []
   },
   "outputs": [],
   "source": [
    "common_genes = np.intersect1d(adata_query.var_names, adata_ref.var_names)\n",
    "def get_human_TF_list(): \n",
    "    # get a human TF list \n",
    "    TF_list = pd.read_csv('/path/to/human/TFlist.csv',skiprows=1)\n",
    "    np.unique(TF_list['Unnamed: 3'], return_counts=True) # obtain true list without duplicates \n",
    "    TF_list = TF_list[TF_list['Unnamed: 3']=='Yes']\n",
    "    TF_list['Name']\n",
    "    return TF_list\n",
    "human_TFs = get_human_TF_list()\n",
    "human_TFs = np.intersect1d(common_genes , np.asarray(human_TFs['Name']) )\n",
    "len(human_TFs)"
   ]
  },
  {
   "cell_type": "code",
   "execution_count": null,
   "id": "promising-looking",
   "metadata": {
    "tags": []
   },
   "outputs": [],
   "source": [
    "#see how many genes to test\n",
    "print(len(hvg_genes))\n",
    "print(len(human_TFs))"
   ]
  },
  {
   "cell_type": "code",
   "execution_count": 20,
   "id": "determined-bacteria",
   "metadata": {
    "tags": []
   },
   "outputs": [],
   "source": [
    "#obtain timeseries\n",
    "adata_ref.obs['time'] = TimeSeriesPreprocessor.Utils.minmax_normalise(np.asarray(adata_ref.obs['pseudotime']))\n",
    "adata_query.obs['time'] = TimeSeriesPreprocessor.Utils.minmax_normalise(np.asarray(adata_query.obs['pseudotime']))"
   ]
  },
  {
   "cell_type": "code",
   "execution_count": null,
   "id": "democratic-tablet",
   "metadata": {
    "tags": []
   },
   "outputs": [],
   "source": [
    "#ensure 0-->1\n",
    "print(min(adata_ref.obs['time']), max(adata_ref.obs['time']))\n",
    "print(min(adata_query.obs['time']), max(adata_query.obs['time']))"
   ]
  },
  {
   "cell_type": "code",
   "execution_count": null,
   "id": "warming-actress",
   "metadata": {
    "tags": []
   },
   "outputs": [],
   "source": [
    "# Visualise the two distributions\n",
    "sb.kdeplot(adata_ref.obs['time'], fill=True, label='Reference - in vivo', color='forestgreen') \n",
    "sb.kdeplot(adata_query.obs['time'], fill=True, label='Query - in vitro', color='midnightblue'); \n",
    "plt.xlabel('pseudotime'); plt.legend(); plt.show()"
   ]
  },
  {
   "cell_type": "code",
   "execution_count": null,
   "id": "through-context",
   "metadata": {
    "tags": []
   },
   "outputs": [],
   "source": [
    "#optimise binning\n",
    "import optbinning\n",
    "optbinning.__version__\n",
    "\n",
    "from optbinning import ContinuousOptimalBinning\n",
    "\n",
    "x = np.asarray(adata_ref.obs.time)\n",
    "optb = ContinuousOptimalBinning(name='pseudotime', dtype=\"numerical\")\n",
    "optb.fit(x, x)\n",
    "print(len(optb.splits))\n",
    "\n",
    "x = np.asarray(adata_query.obs.time)\n",
    "optb = ContinuousOptimalBinning(name='pseudotime', dtype=\"numerical\")\n",
    "optb.fit(x, x)\n",
    "\n",
    "#print optimal number of bins\n",
    "print(len(optb.splits))"
   ]
  },
  {
   "cell_type": "code",
   "execution_count": null,
   "id": "dated-assets",
   "metadata": {
    "tags": []
   },
   "outputs": [],
   "source": [
    "#overlay bins\n",
    "VisualUtils.plot_pseudotime_dists_with_interpolation_points(adata_ref, adata_query, n_bins)"
   ]
  },
  {
   "cell_type": "code",
   "execution_count": 28,
   "id": "portuguese-crest",
   "metadata": {
    "tags": []
   },
   "outputs": [],
   "source": [
    "#visualise bin composition\n",
    "joint_cmap = {}\n",
    "colors = np.asarray(sb.color_palette('tab20').as_hex()) \n",
    "i=0\n",
    "for c in np.unique(adata_ref.obs.fineanno):\n",
    "    joint_cmap[c] = colors[i]\n",
    "    i+=1\n",
    "    \n",
    "for c in np.unique(adata_query.obs.day):\n",
    "    joint_cmap[c] = colors[i]\n",
    "    i+=1"
   ]
  },
  {
   "cell_type": "code",
   "execution_count": null,
   "id": "waiting-winner",
   "metadata": {
    "tags": []
   },
   "outputs": [],
   "source": [
    "VisualUtils.plot_celltype_barplot(adata_ref, n_bins, 'annotation', joint_cmap=joint_cmap)\n",
    "VisualUtils.plot_any_legend(joint_cmap)\n",
    "VisualUtils.plot_celltype_barplot(adata_query, n_bins, 'annotation', joint_cmap=joint_cmap)"
   ]
  },
  {
   "cell_type": "code",
   "execution_count": null,
   "id": "global-section",
   "metadata": {
    "tags": []
   },
   "outputs": [],
   "source": [
    "#run alignment for TFs\n",
    "aligner = Main.RefQueryAligner(adata_ref, adata_query, human_TFs, n_bins) \n",
    "aligner.align_all_pairs() "
   ]
  },
  {
   "cell_type": "code",
   "execution_count": null,
   "id": "informational-panama",
   "metadata": {
    "tags": []
   },
   "outputs": [],
   "source": [
    "#alignment info and visualisation\n",
    "aligner.get_aggregate_alignment()"
   ]
  },
  {
   "cell_type": "code",
   "execution_count": null,
   "id": "coordinate-maryland",
   "metadata": {
    "tags": []
   },
   "outputs": [],
   "source": [
    "#data frame of this information \n",
    "df = aligner.get_stat_df() # ordered genes according to alignment similarity statistics \n",
    "df"
   ]
  },
  {
   "cell_type": "code",
   "execution_count": null,
   "id": "based-festival",
   "metadata": {
    "tags": []
   },
   "outputs": [],
   "source": [
    "#plot any gene of interest\n",
    "VisualUtils.plotTimeSeries('TGIF1', aligner)"
   ]
  },
  {
   "cell_type": "code",
   "execution_count": null,
   "id": "built-belize",
   "metadata": {},
   "outputs": [],
   "source": [
    "#write the TF aligner object\n",
    "import pickle\n",
    "pickle.dump(aligner, open('aligner_TF.pkl', 'wb')) "
   ]
  },
  {
   "cell_type": "code",
   "execution_count": null,
   "id": "curious-rough",
   "metadata": {
    "tags": []
   },
   "outputs": [],
   "source": [
    "#run alignment for HVGs\n",
    "aligner_hvgs = Main.RefQueryAligner(adata_ref, adata_query, hvg_genes, n_bins) #\n",
    "aligner_hvgs.align_all_pairs() "
   ]
  },
  {
   "cell_type": "code",
   "execution_count": null,
   "id": "greatest-sacramento",
   "metadata": {
    "tags": []
   },
   "outputs": [],
   "source": [
    "##run alignment for TFs\n",
    "aligner_hvgs.get_aggregate_alignment()"
   ]
  },
  {
   "cell_type": "code",
   "execution_count": null,
   "id": "liked-cyprus",
   "metadata": {
    "tags": []
   },
   "outputs": [],
   "source": [
    "#obtain df\n",
    "df = aligner_hvgs.get_stat_df() # ordered genes according to alignment similarity statistics \n",
    "df"
   ]
  },
  {
   "cell_type": "code",
   "execution_count": null,
   "id": "domestic-technique",
   "metadata": {
    "tags": []
   },
   "outputs": [],
   "source": [
    "#plot any gene\n",
    "VisualUtils.plotTimeSeries('EGR1', aligner_hvgs)"
   ]
  }
 ],
 "metadata": {
  "environment": {
   "kernel": "g2gmay",
   "name": "workbench-notebooks.m117",
   "type": "gcloud",
   "uri": "us-docker.pkg.dev/deeplearning-platform-release/gcr.io/workbench-notebooks:m117"
  },
  "kernelspec": {
   "display_name": "genes2genes",
   "language": "python",
   "name": "genes2genes-env"
  },
  "language_info": {
   "codemirror_mode": {
    "name": "ipython",
    "version": 3
   },
   "file_extension": ".py",
   "mimetype": "text/x-python",
   "name": "python",
   "nbconvert_exporter": "python",
   "pygments_lexer": "ipython3",
   "version": "3.8.17"
  }
 },
 "nbformat": 4,
 "nbformat_minor": 5
}
