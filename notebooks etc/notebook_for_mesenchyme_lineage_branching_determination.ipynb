{
 "cells": [
  {
   "cell_type": "code",
   "execution_count": 1,
   "id": "elementary-yukon",
   "metadata": {},
   "outputs": [],
   "source": [
    "#libraries\n",
    "import scanpy as sc\n",
    "import scvi \n",
    "import anndata\n",
    "import matplotlib.pyplot as plt\n",
    "import numpy as np \n",
    "import torch\n",
    "import pandas as pd\n",
    "import seaborn as sb\n",
    "import cellrank as cr\n",
    "from cellrank.kernels import CytoTRACEKernel\n",
    "import scvelo as scv\n",
    "import scanpy.external as sce"
   ]
  },
  {
   "cell_type": "code",
   "execution_count": null,
   "id": "religious-utility",
   "metadata": {},
   "outputs": [],
   "source": [
    "#load object with raw counts and check all lanes present\n",
    "adata = anndata.read_h5ad('../../path_to_raw_h5ad')\n",
    "np.unique(adata.obs.batch)"
   ]
  },
  {
   "cell_type": "code",
   "execution_count": null,
   "id": "first-acting",
   "metadata": {},
   "outputs": [],
   "source": [
    "#subset to mesenchymal compartment\n",
    "adata = adata[[c in mesenchymal_lineage for c in adata.obs.celltype]]"
   ]
  },
  {
   "cell_type": "code",
   "execution_count": null,
   "id": "union-hepatitis",
   "metadata": {},
   "outputs": [],
   "source": [
    "#preprocess and scvi integration with batch correction\n",
    "\n",
    "sc.pp.filter_genes(adata, min_cells=3)\n",
    "sc.pp.normalize_per_cell(adata, 10000) \n",
    "sc.pp.log1p(adata)\n",
    "sc.pp.pca(adata)\n",
    "sc.pp.highly_variable_genes(adata, n_top_genes=2000, subset=True)\n",
    "\n",
    "def preprocess(adata):\n",
    "    scvi.settings.seed = 0\n",
    "    scvi.model.SCVI.setup_anndata(adata, layer=\"counts\", batch_key='batch')\n",
    "    vae = scvi.model.SCVI(adata, n_layers=2, n_latent=10, dropout_rate=0.2) \n",
    "    vae.train()\n",
    "    adata.obsm[\"X_scVI\"] = vae.get_latent_representation()\n",
    "    sc.pp.neighbors(adata, use_rep=\"X_scVI\",method='gauss')\n",
    "    sc.tl.umap(adata)\n",
    "    #sc.tl.leiden(adata)\n",
    "    return adata\n",
    "adata = preprocess(adata)"
   ]
  },
  {
   "cell_type": "code",
   "execution_count": null,
   "id": "authentic-investigator",
   "metadata": {},
   "outputs": [],
   "source": [
    "#run palantir - define function\n",
    "def run_palantir(adata, latent_embedding, umap_embedding, root_markers, n_eigs=None): \n",
    "\n",
    "    print('============= Palantir Run ===========')\n",
    "    sc.tl.score_genes(adata, gene_list=root_markers, score_name='start_score')\n",
    "    sc.pl.embedding(adata, basis=umap_embedding, color= ['start_score'],s=15, legend_loc='on data')\n",
    "    print('Root cell determination')\n",
    "    start_cell_id = np.argmax(adata.obs.start_score)\n",
    "    start_cell =  adata.obs_names[start_cell_id] \n",
    "    print('ROOT CELL: ', start_cell_id)\n",
    "    print(adata[adata.obs_names == start_cell].obs.finestanno)\n",
    "    adata[adata.obs_names == start_cell].obs.fineanno\n",
    "    print(adata.shape)\n",
    "    np.random.seed(5)\n",
    "    # Run diffusion maps\n",
    "    palantir.utils.run_diffusion_maps(adata, pca_key = latent_embedding)\n",
    "    if(n_eigs==None):\n",
    "        ms_data = palantir.utils.determine_multiscale_space(adata)\n",
    "    else:\n",
    "        print('Taking n_eigs = ', n_eigs)\n",
    "        ms_data = palantir.utils.determine_multiscale_space(adata, n_eigs=n_eigs+1)\n",
    "    print('DC representation shape:', ms_data.shape)\n",
    "    np.random.seed(5)\n",
    "    print('Running Palantir')\n",
    "    pr_res = palantir.core.run_palantir(ms_data, early_cell=start_cell , \n",
    "                                        use_early_cell_as_start=True, num_waypoints=500)\n",
    "   \n",
    "    return pr_res"
   ]
  },
  {
   "cell_type": "code",
   "execution_count": null,
   "id": "suffering-essex",
   "metadata": {},
   "outputs": [],
   "source": [
    "#run\n",
    "pr_res = run_palantir(adata, 'X_scVI_batch_corrected', 'X_umap_batch_corrected', ['TBX5'])"
   ]
  },
  {
   "cell_type": "code",
   "execution_count": null,
   "id": "familiar-bullet",
   "metadata": {},
   "outputs": [],
   "source": [
    "#plot\n",
    "adata.obs['palantir_pseudotime'] = palantir_pseudotime\n",
    "sc.pl.embedding(adata, basis='umap', color='palantir_pseudotime')\n",
    "palantir.plot.plot_palantir_results(adata, pr_res, s=3)\n",
    "plt.show()"
   ]
  },
  {
   "cell_type": "code",
   "execution_count": null,
   "id": "inside-story",
   "metadata": {},
   "outputs": [],
   "source": [
    "#cellrank\n",
    "pk_palantir = cr.kernels.PseudotimeKernel(adata, time_key=\"palantir_pseudotime\")\n",
    "pk_palantir.compute_transition_matrix()\n",
    "pk_palantir.plot_projection(basis=\"umap\", color=\"finestanno\", legend_loc=\"right\", recompute=True)"
   ]
  }
 ],
 "metadata": {
  "kernelspec": {
   "display_name": "Python 3",
   "language": "python",
   "name": "python3"
  },
  "language_info": {
   "codemirror_mode": {
    "name": "ipython",
    "version": 3
   },
   "file_extension": ".py",
   "mimetype": "text/x-python",
   "name": "python",
   "nbconvert_exporter": "python",
   "pygments_lexer": "ipython3",
   "version": "3.8.8"
  }
 },
 "nbformat": 4,
 "nbformat_minor": 5
}
