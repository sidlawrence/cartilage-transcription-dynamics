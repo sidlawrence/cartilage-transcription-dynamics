{
 "cells": [
  {
   "cell_type": "code",
   "execution_count": null,
   "id": "continuous-listing",
   "metadata": {},
   "outputs": [],
   "source": [
    "import anndata\n",
    "import pandas as pd\n",
    "import numpy as np\n",
    "import matplotlib as plt\n",
    "from scipy import sparse\n",
    "import scanpy as sc\n",
    "import seaborn as sns\n",
    "import Scanpyplus\n",
    "from matplotlib.pyplot import savefig\n",
    "\n",
    "plt.rcParams.update({'figure.figsize': (20,10)})"
   ]
  },
  {
   "cell_type": "code",
   "execution_count": null,
   "id": "israeli-throat",
   "metadata": {},
   "outputs": [],
   "source": [
    "#read in the ISS h5ad output\n",
    "iss=sc.read_h5ad('../path/to/file.h5ad')"
   ]
  },
  {
   "cell_type": "code",
   "execution_count": null,
   "id": "promising-observation",
   "metadata": {},
   "outputs": [],
   "source": [
    "#filter out cells expressing 3 or fewer genes\n",
    "sc.pp.filter_cells(iss, min_genes=3)"
   ]
  },
  {
   "cell_type": "code",
   "execution_count": null,
   "id": "centered-salon",
   "metadata": {},
   "outputs": [],
   "source": [
    "#logtrasnform and scale\n",
    "sc.pp.log1p(iss)\n",
    "sc.pp.scale(iss)"
   ]
  },
  {
   "cell_type": "code",
   "execution_count": null,
   "id": "conceptual-wrong",
   "metadata": {},
   "outputs": [],
   "source": [
    "#load in single cell reference- raw counts, keeping shared genes only and removing cells lacking 3 of these genes\n",
    "adata = sc.read('../path/to/file.h5ad')\n",
    "adata = adata[:, iss.var_names]\n",
    "sc.pp.filter_cells(adata, min_genes=3)\n",
    "sc.pp.normalize_total(adata)\n",
    "sc.pp.log1p(adata)"
   ]
  },
  {
   "cell_type": "code",
   "execution_count": 1,
   "id": "together-reach",
   "metadata": {},
   "outputs": [],
   "source": [
    "#seperate out the non shared space single cell data for later imputation\n",
    "bdata = adata[:, [i not in iss.var_names for i in adata.var_names]]"
   ]
  },
  {
   "cell_type": "code",
   "execution_count": null,
   "id": "brown-pricing",
   "metadata": {},
   "outputs": [],
   "source": [
    "#annoy index from single cell - iss becomes query\n",
    "from annoy import AnnoyIndex \n",
    "\n",
    "ckd = AnnoyIndex(adata.X.shape[1],metric=\"euclidean\") #vector of dimensions equal to number of genes\n",
    "for i in np.arange(adata.X.shape[0]):\n",
    "    #ckd.add_item(i,np.squeeze(np.asarray(adata.X[i,:].todense())))\n",
    "    ckd.add_item(i,np.squeeze(np.asarray(adata.X[i,:])))\n",
    "ckd.build(10) # higher n_trees -> higher precision\n",
    "\n",
    "ckdo_ind = []\n",
    "ckdo_dist = []\n",
    "for i in np.arange(iss.X.shape[0]):\n",
    "    holder = ckd.get_nns_by_vector(iss.X[i,:],15,include_distances=True)\n",
    "    ckdo_ind.append(holder[0])\n",
    "    ckdo_dist.append(holder[1])"
   ]
  },
  {
   "cell_type": "code",
   "execution_count": null,
   "id": "welcome-skating",
   "metadata": {},
   "outputs": [],
   "source": [
    "#now impute genes not included in the panel using the non-shared single cell object\n",
    "knn_expr_means = []\n",
    "celltype=[]\n",
    "for i in np.arange(len(ckdo_ind)):\n",
    "    #subset the object to the neighbours of the i'th ISS cell\n",
    "    #then compute an axis=0 mean to get the per-gene average for those neighbours\n",
    "    #turn to a CSR and store it in a list matching the ISS order\n",
    "    knn_expr_means.append(sparse.csr_matrix(bdata[ckdo_ind[i]].X.mean(axis=0)))\n",
    "    celltype.append(bdata[ckdo_ind[i]].obs.leiden_R_anno_id.value_counts().index[0])\n",
    "\n",
    "    \n",
    "#create new adata object with imputed identity and expression profile\n",
    "cdata = anndata.AnnData(sparse.vstack(knn_expr_means))\n",
    "cdata.obs['celltype'] = celltype\n",
    "cdata.var_names = bdata.var_names\n",
    "cdata.obs_names = iss.obs_names\n",
    "iss.obs['celltype']=cdata.obs['celltype']\n",
    "cdata.obs=iss.obs\n",
    "cdata.obsm=iss.obsm"
   ]
  },
  {
   "cell_type": "code",
   "execution_count": null,
   "id": "naughty-connecticut",
   "metadata": {},
   "outputs": [],
   "source": [
    "####plotting####\n",
    "plt.rcParams.update({'figure.figsize': (20,10)})"
   ]
  },
  {
   "cell_type": "code",
   "execution_count": null,
   "id": "naval-pattern",
   "metadata": {},
   "outputs": [],
   "source": [
    "#all celltypes\n",
    "sc.pl.embedding(cdata,basis='spatial',color='fineanno', size=20)"
   ]
  },
  {
   "cell_type": "code",
   "execution_count": null,
   "id": "conscious-transportation",
   "metadata": {},
   "outputs": [],
   "source": [
    "#subset for each plot to allow custom colours\n",
    "plot1 = cdata[cdata.obs[\"celltype\"].isin([\"SCP\", \"Dermal Fibroblast\",\"Vascular Endothelium\",\"Periderm\", \"Sinusoidal Endothelium\",\"Mesenchymal Condensate 2\", \"Macrophage\"])].copy()\n",
    "sc.pl.embedding(plot1,basis='spatial',color='celltype',palette={\"Sinusoidal Endothelium\": \"green\",\"Vascular Endothelium\": \"green\", \"Macrophage\": \"magenta\",\"Mesenchymal Condensate 2\": \"orange\", \"Dermal Fibroblast\": \"blue\", \"SCP\": \"#f4cccc\", \"Periderm\":\"#a8cddf\"},save=\".png\", size=60)"
   ]
  }
 ],
 "metadata": {
  "kernelspec": {
   "display_name": "Python 3",
   "language": "python",
   "name": "python3"
  },
  "language_info": {
   "codemirror_mode": {
    "name": "ipython",
    "version": 3
   },
   "file_extension": ".py",
   "mimetype": "text/x-python",
   "name": "python",
   "nbconvert_exporter": "python",
   "pygments_lexer": "ipython3",
   "version": "3.8.8"
  }
 },
 "nbformat": 4,
 "nbformat_minor": 5
}
